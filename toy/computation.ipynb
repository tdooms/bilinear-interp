{
 "cells": [
  {
   "cell_type": "code",
   "execution_count": null,
   "metadata": {},
   "outputs": [],
   "source": [
    "from shared.toy import *\n",
    "from shared.plotting import *\n",
    "from shared.features import *\n",
    "from shared.tasks import *\n",
    "\n",
    "from einops import *\n",
    "import math"
   ]
  },
  {
   "cell_type": "code",
   "execution_count": null,
   "metadata": {},
   "outputs": [],
   "source": [
    "class Computation(ToyModel):\n",
    "    def __init__(self, cfg):\n",
    "        super().__init__(cfg)\n",
    "        \n",
    "        # Predefine the list of all possible pairs of features for later use in the binary operations.\n",
    "        n_unembed = math.comb(cfg.n_features, 2)\n",
    "        assert cfg.n_unembed == n_unembed, f\"The unembed dimension must be the number of boolean combinations of the features. Got {cfg.n_unembed} but should be {n_unembed} instead.\"\n",
    "        self.pairs = list(itertools.combinations(range(self.cfg.n_features), 2))\n",
    "    \n",
    "    def generate_batch(self):\n",
    "        return generate_binary(self.cfg, self.probability)\n",
    "    \n",
    "    def compute(self, x):\n",
    "        return compute_boolean_composition(x, self.cfg)\n",
    "    \n",
    "    def binary_truth_table(self):\n",
    "        accum = torch.ones(4) * self.cfg.task.get(\"bias\", 0)\n",
    "        \n",
    "        accum += torch.tensor([0, 0, 0, 1]) * self.cfg.task.get(\"and\", 0)\n",
    "        accum += torch.tensor([0, 1, 1, 1]) * self.cfg.task.get(\"or\", 0)\n",
    "        accum += torch.tensor([0, 1, 1, 0]) * self.cfg.task.get(\"xor\", 0)\n",
    "        \n",
    "        accum += torch.tensor([1, 1, 1, 0]) * self.cfg.task.get(\"nand\", 0)\n",
    "        accum += torch.tensor([1, 0, 0, 0]) * self.cfg.task.get(\"nor\", 0)\n",
    "        accum += torch.tensor([1, 0, 0, 1]) * self.cfg.task.get(\"xnor\", 0)\n",
    "\n",
    "        return repeat(accum, f\"x -> {self.cfg.n_instances} {self.cfg.n_outputs} x\")\n",
    "    \n",
    "    def weights_to_formula(self):\n",
    "        w = self.ube\n",
    "        p = torch.tensor(list(itertools.combinations(range(self.cfg.n_features), 2)))\n",
    "\n",
    "        F, B = torch.arange(p.size(0)), -torch.ones(p.size(0), dtype=torch.long)\n",
    "        X, Y = p[:, 0], p[:, 1]\n",
    "        \n",
    "        t_00 = w[:, F, B, B]\n",
    "        t_10 = w[:, F, X, X] + 2*w[:, F, X, B] + w[:, F, B, B]\n",
    "        t_01 = w[:, F, Y, Y] + 2*w[:, F, Y, B] + w[:, F, B, B]\n",
    "        t_11 = w[:, F, X, X] + w[:, F, Y, Y] + 2*w[:, F, X, Y] + 2*w[:, F, X, B] + 2*w[:, F, Y, B] + w[:, F, B, B]\n",
    "\n",
    "        return torch.stack([t_00, t_10, t_01, t_11], dim=-1)   \n",
    "        \n",
    "    \n",
    "    def forward(self, x):\n",
    "        return super().forward(x.float())"
   ]
  },
  {
   "cell_type": "code",
   "execution_count": null,
   "metadata": {},
   "outputs": [],
   "source": [
    "cfg = ToyConfig(n_epochs=5_000, n_embed=4, n_features=4, n_unembed=6, n_outputs=6, task=dict(xor=1))\n",
    "model = Computation(cfg)\n",
    "model.train()[0]"
   ]
  },
  {
   "cell_type": "code",
   "execution_count": null,
   "metadata": {},
   "outputs": [],
   "source": [
    "plot_output_interaction(model.ube[4])"
   ]
  },
  {
   "cell_type": "code",
   "execution_count": null,
   "metadata": {},
   "outputs": [],
   "source": [
    "prediction = model.weights_to_formula()\n",
    "target = model.binary_truth_table()\n",
    "\n",
    "score = (prediction - target).pow(2).mean(-1)\n",
    "px.imshow(score, **COLOR, labels=dict(x=\"Feature\", y=\"Instance\"), title=\"fidelity\") \\\n",
    "    .update_xaxes(tickvals=torch.arange(model.cfg.n_outputs)) \\\n",
    "    .update_yaxes(tickvals=torch.arange(model.cfg.n_instances)) \\\n",
    "    .update_layout(title_x=0.5)"
   ]
  }
 ],
 "metadata": {
  "kernelspec": {
   "display_name": "Python 3",
   "language": "python",
   "name": "python3"
  },
  "language_info": {
   "codemirror_mode": {
    "name": "ipython",
    "version": 3
   },
   "file_extension": ".py",
   "mimetype": "text/x-python",
   "name": "python",
   "nbconvert_exporter": "python",
   "pygments_lexer": "ipython3",
   "version": "3.11.4"
  }
 },
 "nbformat": 4,
 "nbformat_minor": 2
}
