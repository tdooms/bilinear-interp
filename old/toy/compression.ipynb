{
 "cells": [
  {
   "cell_type": "code",
   "execution_count": 3,
   "metadata": {},
   "outputs": [],
   "source": [
    "from toy.model import *\n",
    "from toy.plotting import *\n",
    "from toy.utils import *\n",
    "from einops import *"
   ]
  },
  {
   "cell_type": "code",
   "execution_count": 4,
   "metadata": {},
   "outputs": [
    {
     "ename": "NameError",
     "evalue": "name 'trainers' is not defined",
     "output_type": "error",
     "traceback": [
      "\u001b[1;31m---------------------------------------------------------------------------\u001b[0m",
      "\u001b[1;31mNameError\u001b[0m                                 Traceback (most recent call last)",
      "Cell \u001b[1;32mIn[4], line 3\u001b[0m\n\u001b[0;32m      1\u001b[0m cfg \u001b[38;5;241m=\u001b[39m ToyConfig(n_epochs\u001b[38;5;241m=\u001b[39m\u001b[38;5;241m3000\u001b[39m, n_features\u001b[38;5;241m=\u001b[39m\u001b[38;5;241m4\u001b[39m, n_embed\u001b[38;5;241m=\u001b[39m\u001b[38;5;241m2\u001b[39m, n_unembed\u001b[38;5;241m=\u001b[39m\u001b[38;5;241m4\u001b[39m, n_outputs\u001b[38;5;241m=\u001b[39m\u001b[38;5;241m4\u001b[39m, unembed\u001b[38;5;241m=\u001b[39midentity)\n\u001b[0;32m      2\u001b[0m model \u001b[38;5;241m=\u001b[39m ToyModel(cfg)\n\u001b[1;32m----> 3\u001b[0m \u001b[43mmodel\u001b[49m\u001b[38;5;241;43m.\u001b[39;49m\u001b[43mtrain\u001b[49m\u001b[43m(\u001b[49m\u001b[43m)\u001b[49m[\u001b[38;5;241m0\u001b[39m]\n",
      "File \u001b[1;32mc:\\Users\\thoma\\code\\bilinear-interp\\toy\\model.py:93\u001b[0m, in \u001b[0;36mToyModel.train\u001b[1;34m(self, **kwargs)\u001b[0m\n\u001b[0;32m     92\u001b[0m \u001b[38;5;28;01mdef\u001b[39;00m \u001b[38;5;21mtrain\u001b[39m(\u001b[38;5;28mself\u001b[39m, \u001b[38;5;241m*\u001b[39m\u001b[38;5;241m*\u001b[39mkwargs):\n\u001b[1;32m---> 93\u001b[0m     \u001b[38;5;28;01mreturn\u001b[39;00m \u001b[43mtrainers\u001b[49m\u001b[38;5;241m.\u001b[39mtrain_toy(\u001b[38;5;28mself\u001b[39m, \u001b[38;5;28mself\u001b[39m\u001b[38;5;241m.\u001b[39mcfg, \u001b[38;5;241m*\u001b[39m\u001b[38;5;241m*\u001b[39mkwargs)\n",
      "\u001b[1;31mNameError\u001b[0m: name 'trainers' is not defined"
     ]
    }
   ],
   "source": [
    "cfg = ToyConfig(n_epochs=3000, n_features=4, n_embed=2, n_unembed=4, n_outputs=4, unembed=identity)\n",
    "model = ToyModel(cfg)\n",
    "model.train()[0]"
   ]
  },
  {
   "cell_type": "code",
   "execution_count": null,
   "metadata": {},
   "outputs": [],
   "source": [
    "plot_output_interaction(model.be[-3])"
   ]
  },
  {
   "cell_type": "code",
   "execution_count": null,
   "metadata": {},
   "outputs": [],
   "source": [
    "plot_output_composition(model.ube)"
   ]
  },
  {
   "cell_type": "code",
   "execution_count": null,
   "metadata": {},
   "outputs": [],
   "source": [
    "plot_radial_interaction(model.b[4])"
   ]
  }
 ],
 "metadata": {
  "kernelspec": {
   "display_name": "Python 3",
   "language": "python",
   "name": "python3"
  },
  "language_info": {
   "codemirror_mode": {
    "name": "ipython",
    "version": 3
   },
   "file_extension": ".py",
   "mimetype": "text/x-python",
   "name": "python",
   "nbconvert_exporter": "python",
   "pygments_lexer": "ipython3",
   "version": "3.11.4"
  }
 },
 "nbformat": 4,
 "nbformat_minor": 2
}
