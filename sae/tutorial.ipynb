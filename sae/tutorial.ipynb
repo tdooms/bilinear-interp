{
 "cells": [
  {
   "cell_type": "markdown",
   "metadata": {},
   "source": [
    "# SAE tutorial\n",
    "\n",
    "This is a small tutorial into how the gated SAE is implemented and how it should be analyzed.\n",
    "\n",
    "## Instances\n",
    "\n",
    "The most important implementation detail on the SAE is that it contains multiple sparsity instances.\n",
    "By default, these sparsities are 0.1, 0.25, 0.5 and 1.0 respectively (stored in dim 0).\n",
    "\n",
    "## Patch Loss\n",
    "\n",
    "Fidelity of the SAEs in measured not in loss recovered but using patch loss, which corresponds to \"loss added\". A value of 0.1 will increase the loss from 1.5 to 1.65."
   ]
  }
 ],
 "metadata": {
  "language_info": {
   "name": "python"
  }
 },
 "nbformat": 4,
 "nbformat_minor": 2
}
